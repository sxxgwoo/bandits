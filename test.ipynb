{
 "cells": [
  {
   "cell_type": "code",
   "execution_count": 1,
   "metadata": {},
   "outputs": [],
   "source": [
    "import numpy as np\n",
    "from scipy.stats import norm\n",
    "import matplotlib.pyplot as plt\n",
    "from sklearn import linear_model\n",
    "from numpy.linalg import inv"
   ]
  },
  {
   "cell_type": "code",
   "execution_count": 5,
   "metadata": {},
   "outputs": [
    {
     "name": "stdout",
     "output_type": "stream",
     "text": [
      "[[ 0.12044376 -0.99308561  0.47298314 -2.04881772]\n",
      " [-0.50248454  0.59408672 -1.17862479 -0.93292657]\n",
      " [-0.80057768 -1.08932733  0.456836   -0.97080444]]\n",
      "[0.95284942 1.58927407 1.34965498 2.45162544]\n",
      "[[ 0.12640377 -0.62486743  0.35044744 -0.83569769]\n",
      " [-0.52734936  0.37381011 -0.87327858 -0.38053389]\n",
      " [-0.84019327 -0.68542446  0.33848354 -0.395984  ]]\n"
     ]
    }
   ],
   "source": [
    "vec = np.random.randn(3,4)\n",
    "print(vec)\n",
    "norm = np.linalg.norm(vec, axis=0)\n",
    "print(norm)\n",
    "vec /= norm\n",
    "print(vec)"
   ]
  },
  {
   "cell_type": "code",
   "execution_count": null,
   "metadata": {},
   "outputs": [],
   "source": [
    "a.dot"
   ]
  }
 ],
 "metadata": {
  "kernelspec": {
   "display_name": "gsds",
   "language": "python",
   "name": "python3"
  },
  "language_info": {
   "codemirror_mode": {
    "name": "ipython",
    "version": 3
   },
   "file_extension": ".py",
   "mimetype": "text/x-python",
   "name": "python",
   "nbconvert_exporter": "python",
   "pygments_lexer": "ipython3",
   "version": "3.9.16"
  },
  "orig_nbformat": 4,
  "vscode": {
   "interpreter": {
    "hash": "6f5815ea9f3960f5dd71e076cdc9f4671ca7557e026449659b8389176dadcfbd"
   }
  }
 },
 "nbformat": 4,
 "nbformat_minor": 2
}
